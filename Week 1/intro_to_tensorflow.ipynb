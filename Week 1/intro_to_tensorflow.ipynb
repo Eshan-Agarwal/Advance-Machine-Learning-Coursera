{
 "cells": [
  {
   "cell_type": "markdown",
   "metadata": {
    "slideshow": {
     "slide_type": "slide"
    }
   },
   "source": [
    "# Intro to TensorFlow\n",
    "\n",
    "This notebook covers the basics of TF and shows you an animation with gradient descent trajectory.\n",
    "<img src=\"images/gradient_descent.png\" style=\"width:50%\">"
   ]
  },
  {
   "cell_type": "markdown",
   "metadata": {},
   "source": [
    "# TensorBoard"
   ]
  },
  {
   "cell_type": "markdown",
   "metadata": {},
   "source": [
    "**Plase note that if you are running on the Coursera platform, you won't be able to access the tensorboard instance due to the network setup there.**\n",
    "\n",
    "Run `tensorboard --logdir=./tensorboard_logs --port=7007` in bash.\n",
    "\n",
    "If you run the notebook locally, you should be able to access TensorBoard on http://127.0.0.1:7007/"
   ]
  },
  {
   "cell_type": "code",
   "execution_count": 1,
   "metadata": {},
   "outputs": [
    {
     "name": "stderr",
     "output_type": "stream",
     "text": [
      "Using TensorFlow backend.\n"
     ]
    },
    {
     "name": "stdout",
     "output_type": "stream",
     "text": [
      "We're using TF 1.2.1\n"
     ]
    }
   ],
   "source": [
    "import tensorflow as tf\n",
    "import sys\n",
    "sys.path.append(\"../..\")\n",
    "from keras_utils import reset_tf_session\n",
    "s = reset_tf_session()\n",
    "print(\"We're using TF\", tf.__version__)"
   ]
  },
  {
   "cell_type": "markdown",
   "metadata": {},
   "source": [
    "# Warming up\n",
    "For starters, let's implement a python function that computes the sum of squares of numbers from 0 to N-1."
   ]
  },
  {
   "cell_type": "code",
   "execution_count": 2,
   "metadata": {
    "collapsed": true
   },
   "outputs": [],
   "source": [
    "import numpy as np\n",
    "\n",
    "def sum_python(N):\n",
    "    return np.sum(np.arange(N)**2)"
   ]
  },
  {
   "cell_type": "code",
   "execution_count": 3,
   "metadata": {},
   "outputs": [
    {
     "name": "stdout",
     "output_type": "stream",
     "text": [
      "CPU times: user 0 ns, sys: 1.53 ms, total: 1.53 ms\n",
      "Wall time: 1.1 ms\n"
     ]
    },
    {
     "data": {
      "text/plain": [
       "333328333350000"
      ]
     },
     "execution_count": 3,
     "metadata": {},
     "output_type": "execute_result"
    }
   ],
   "source": [
    "%%time\n",
    "sum_python(10**5)"
   ]
  },
  {
   "cell_type": "markdown",
   "metadata": {},
   "source": [
    "# Tensoflow teaser\n",
    "\n",
    "Doing the very same thing"
   ]
  },
  {
   "cell_type": "code",
   "execution_count": 4,
   "metadata": {
    "collapsed": true
   },
   "outputs": [],
   "source": [
    "# An integer parameter\n",
    "N = tf.placeholder('int64', name=\"input_to_your_function\")\n",
    "\n",
    "# A recipe on how to produce the same result\n",
    "result = tf.reduce_sum(tf.range(N)**2)"
   ]
  },
  {
   "cell_type": "code",
   "execution_count": 5,
   "metadata": {},
   "outputs": [
    {
     "data": {
      "text/plain": [
       "<tf.Tensor 'Sum:0' shape=() dtype=int64>"
      ]
     },
     "execution_count": 5,
     "metadata": {},
     "output_type": "execute_result"
    }
   ],
   "source": [
    "# just a graph definition\n",
    "result"
   ]
  },
  {
   "cell_type": "code",
   "execution_count": 6,
   "metadata": {},
   "outputs": [
    {
     "name": "stdout",
     "output_type": "stream",
     "text": [
      "CPU times: user 0 ns, sys: 4.13 ms, total: 4.13 ms\n",
      "Wall time: 65.2 ms\n"
     ]
    },
    {
     "data": {
      "text/plain": [
       "333328333350000"
      ]
     },
     "execution_count": 6,
     "metadata": {},
     "output_type": "execute_result"
    }
   ],
   "source": [
    "%%time\n",
    "# actually executing\n",
    "result.eval({N: 10**5})"
   ]
  },
  {
   "cell_type": "code",
   "execution_count": 7,
   "metadata": {
    "collapsed": true
   },
   "outputs": [],
   "source": [
    "# logger for tensorboard\n",
    "writer = tf.summary.FileWriter(\"tensorboard_logs\", graph=s.graph)"
   ]
  },
  {
   "cell_type": "markdown",
   "metadata": {},
   "source": [
    "# How does it work?\n",
    "1. Define placeholders where you'll send inputs\n",
    "2. Make a symbolic graph: a recipe for mathematical transformation of those placeholders\n",
    "3. Compute outputs of your graph with particular values for each placeholder\n",
    "  * `output.eval({placeholder: value})`\n",
    "  * `s.run(output, {placeholder: value})`\n",
    "\n",
    "So far there are two main entities: \"placeholder\" and \"transformation\" (operation output)\n",
    "* Both can be numbers, vectors, matrices, tensors, etc.\n",
    "* Both can be int32/64, floats, booleans (uint8) of various size.\n",
    "\n",
    "* You can define new transformations as an arbitrary operation on placeholders and other transformations\n",
    " * `tf.reduce_sum(tf.arange(N)**2)` are 3 sequential transformations of placeholder `N`\n",
    " * There's a tensorflow symbolic version for every numpy function\n",
    "   * `a+b, a/b, a**b, ...` behave just like in numpy\n",
    "   * `np.mean` -> `tf.reduce_mean`\n",
    "   * `np.arange` -> `tf.range`\n",
    "   * `np.cumsum` -> `tf.cumsum`\n",
    "   * If you can't find the operation you need, see the [docs](https://www.tensorflow.org/versions/r1.3/api_docs/python).\n",
    "   \n",
    "`tf.contrib` has many high-level features, may be worth a look."
   ]
  },
  {
   "cell_type": "code",
   "execution_count": 9,
   "metadata": {
    "collapsed": true
   },
   "outputs": [],
   "source": [
    "with tf.name_scope(\"Placeholders_examples\"):\n",
    "    # Default placeholder that can be arbitrary float32\n",
    "    # scalar, vertor, matrix, etc.\n",
    "    arbitrary_input = tf.placeholder('float32')\n",
    "\n",
    "    # Input vector of arbitrary length\n",
    "    input_vector = tf.placeholder('float32', shape=(None,))\n",
    "\n",
    "    # Input vector that _must_ have 10 elements and integer type\n",
    "    fixed_vector = tf.placeholder('int32', shape=(10,))\n",
    "\n",
    "    # Matrix of arbitrary n_rows and 15 columns\n",
    "    # (e.g. a minibatch of your data table)\n",
    "    input_matrix = tf.placeholder('float32', shape=(None, 15))\n",
    "    \n",
    "    # You can generally use None whenever you don't need a specific shape\n",
    "    input1 = tf.placeholder('float64', shape=(None, 100, None))\n",
    "    input2 = tf.placeholder('int32', shape=(None, None, 3, 224, 224))\n",
    "\n",
    "    # elementwise multiplication\n",
    "    double_the_vector = input_vector*2\n",
    "\n",
    "    # elementwise cosine\n",
    "    elementwise_cosine = tf.cos(input_vector)\n",
    "\n",
    "    # difference between squared vector and vector itself plus one\n",
    "    vector_squares = input_vector**2 - input_vector + 1"
   ]
  },
  {
   "cell_type": "code",
   "execution_count": 10,
   "metadata": {
    "collapsed": true
   },
   "outputs": [],
   "source": [
    "my_vector =  tf.placeholder('float32', shape=(None,), name=\"VECTOR_1\")\n",
    "my_vector2 = tf.placeholder('float32', shape=(None,))\n",
    "my_transformation = my_vector * my_vector2 / (tf.sin(my_vector) + 1)"
   ]
  },
  {
   "cell_type": "code",
   "execution_count": 11,
   "metadata": {},
   "outputs": [
    {
     "name": "stdout",
     "output_type": "stream",
     "text": [
      "Tensor(\"truediv:0\", shape=(?,), dtype=float32)\n"
     ]
    }
   ],
   "source": [
    "print(my_transformation)"
   ]
  },
  {
   "cell_type": "code",
   "execution_count": 12,
   "metadata": {},
   "outputs": [
    {
     "name": "stdout",
     "output_type": "stream",
     "text": [
      "[ 0.  1.  2.  3.  4.]\n"
     ]
    },
    {
     "data": {
      "text/plain": [
       "array([ 0.        ,  1.62913239,  2.09501147,  2.62899613,  0.        ], dtype=float32)"
      ]
     },
     "execution_count": 12,
     "metadata": {},
     "output_type": "execute_result"
    }
   ],
   "source": [
    "dummy = np.arange(5).astype('float32')\n",
    "print(dummy)\n",
    "my_transformation.eval({my_vector: dummy, my_vector2: dummy[::-1]})"
   ]
  },
  {
   "cell_type": "code",
   "execution_count": 13,
   "metadata": {
    "collapsed": true
   },
   "outputs": [],
   "source": [
    "writer.add_graph(my_transformation.graph)\n",
    "writer.flush()"
   ]
  },
  {
   "cell_type": "markdown",
   "metadata": {},
   "source": [
    "TensorBoard allows writing scalars, images, audio, histogram. You can read more on tensorboard usage [here](https://www.tensorflow.org/get_started/graph_viz)."
   ]
  },
  {
   "cell_type": "markdown",
   "metadata": {},
   "source": [
    "# Summary\n",
    "* Tensorflow is based on computation graphs\n",
    "* A graph consists of placeholders and transformations"
   ]
  },
  {
   "cell_type": "markdown",
   "metadata": {},
   "source": [
    "# Loss function: Mean Squared Error\n",
    "\n",
    "Loss function must be a part of the graph as well, so that we can do backpropagation."
   ]
  },
  {
   "cell_type": "code",
   "execution_count": 18,
   "metadata": {
    "collapsed": true
   },
   "outputs": [],
   "source": [
    "with tf.name_scope(\"MSE\"):\n",
    "    y_true = tf.placeholder(\"float32\", shape=(None,), name=\"y_true\")\n",
    "    y_predicted = tf.placeholder(\"float32\", shape=(None,), name=\"y_predicted\")\n",
    "    # Implement MSE(y_true, y_predicted), use tf.reduce_mean(...)\n",
    "    mse = tf.reduce_mean((y_true - y_predicted)**2)\n",
    "\n",
    "def compute_mse(vector1, vector2):\n",
    "    return mse.eval({y_true: vector1, y_predicted: vector2})"
   ]
  },
  {
   "cell_type": "code",
   "execution_count": 22,
   "metadata": {},
   "outputs": [],
   "source": [
    "writer.add_graph(mse.graph)\n",
    "writer.flush()"
   ]
  },
  {
   "cell_type": "code",
   "execution_count": 23,
   "metadata": {
    "collapsed": true
   },
   "outputs": [],
   "source": [
    "# Rigorous local testing of MSE implementation\n",
    "import sklearn.metrics\n",
    "for n in [1, 5, 10, 10**3]:\n",
    "    elems = [np.arange(n), np.arange(n, 0, -1), np.zeros(n),\n",
    "             np.ones(n), np.random.random(n), np.random.randint(100, size=n)]\n",
    "    for el in elems:\n",
    "        for el_2 in elems:\n",
    "            true_mse = np.array(sklearn.metrics.mean_squared_error(el, el_2))\n",
    "            my_mse = compute_mse(el, el_2)\n",
    "            if not np.allclose(true_mse, my_mse):\n",
    "                print('mse(%s,%s)' % (el, el_2))\n",
    "                print(\"should be: %f, but your function returned %f\" % (true_mse, my_mse))\n",
    "                raise ValueError('Wrong result')"
   ]
  },
  {
   "cell_type": "markdown",
   "metadata": {},
   "source": [
    "# Variables\n",
    "\n",
    "Placeholder and transformation values are not stored in the graph once the execution is finished. This isn't too comfortable if you want your model to have parameters (e.g. network weights) that are always present, but can change their value over time.\n",
    "\n",
    "Tensorflow solves this with `tf.Variable` objects.\n",
    "* You can assign variable a value at any time in your graph\n",
    "* Unlike placeholders, there's no need to explicitly pass values to variables when `s.run(...)`-ing\n",
    "* You can use variables the same way you use transformations \n",
    " "
   ]
  },
  {
   "cell_type": "code",
   "execution_count": 24,
   "metadata": {
    "collapsed": true
   },
   "outputs": [],
   "source": [
    "# Creating a shared variable\n",
    "shared_vector_1 = tf.Variable(initial_value=np.ones(5),\n",
    "                              name=\"example_variable\")"
   ]
  },
  {
   "cell_type": "code",
   "execution_count": 25,
   "metadata": {},
   "outputs": [
    {
     "name": "stdout",
     "output_type": "stream",
     "text": [
      "Initial value [ 1.  1.  1.  1.  1.]\n"
     ]
    }
   ],
   "source": [
    "# Initialize variable(s) with initial values\n",
    "s.run(tf.global_variables_initializer())\n",
    "\n",
    "# Evaluating the shared variable\n",
    "print(\"Initial value\", s.run(shared_vector_1))"
   ]
  },
  {
   "cell_type": "code",
   "execution_count": 26,
   "metadata": {},
   "outputs": [
    {
     "name": "stdout",
     "output_type": "stream",
     "text": [
      "New value [ 0.  1.  2.  3.  4.]\n"
     ]
    }
   ],
   "source": [
    "# Setting a new value\n",
    "s.run(shared_vector_1.assign(np.arange(5)))\n",
    "\n",
    "# Getting that new value\n",
    "print(\"New value\", s.run(shared_vector_1))"
   ]
  },
  {
   "cell_type": "markdown",
   "metadata": {},
   "source": [
    "# tf.gradients - why graphs matter\n",
    "* Tensorflow can compute derivatives and gradients automatically using the computation graph\n",
    "* True to its name it can manage matrix derivatives\n",
    "* Gradients are computed as a product of elementary derivatives via the chain rule:\n",
    "\n",
    "$$ {\\partial f(g(x)) \\over \\partial x} = {\\partial f(g(x)) \\over \\partial g(x)}\\cdot {\\partial g(x) \\over \\partial x} $$\n",
    "\n",
    "It can get you the derivative of any graph as long as it knows how to differentiate elementary operations"
   ]
  },
  {
   "cell_type": "code",
   "execution_count": 27,
   "metadata": {
    "collapsed": true
   },
   "outputs": [],
   "source": [
    "my_scalar = tf.placeholder('float32')\n",
    "\n",
    "scalar_squared = my_scalar**2\n",
    "\n",
    "# A derivative of scalar_squared by my_scalar\n",
    "derivative = tf.gradients(scalar_squared, [my_scalar, ])"
   ]
  },
  {
   "cell_type": "code",
   "execution_count": 28,
   "metadata": {},
   "outputs": [
    {
     "data": {
      "text/plain": [
       "[<tf.Tensor 'gradients/pow_1_grad/Reshape:0' shape=<unknown> dtype=float32>]"
      ]
     },
     "execution_count": 28,
     "metadata": {},
     "output_type": "execute_result"
    }
   ],
   "source": [
    "derivative"
   ]
  },
  {
   "cell_type": "code",
   "execution_count": 29,
   "metadata": {},
   "outputs": [
    {
     "data": {
      "image/png": "[encoded data removed]",
      "text/plain": [
       "<matplotlib.figure.Figure at 0x7fb13bc3b320>"
      ]
     },
     "metadata": {},
     "output_type": "display_data"
    }
   ],
   "source": [
    "import matplotlib.pyplot as plt\n",
    "%matplotlib inline\n",
    "\n",
    "x = np.linspace(-3, 3)\n",
    "x_squared, x_squared_der = s.run([scalar_squared, derivative[0]],\n",
    "                                 {my_scalar:x})\n",
    "\n",
    "plt.plot(x, x_squared,label=\"$x^2$\")\n",
    "plt.plot(x, x_squared_der, label=r\"$\\frac{dx^2}{dx}$\")\n",
    "plt.legend();"
   ]
  },
  {
   "cell_type": "markdown",
   "metadata": {},
   "source": [
    "# Why that rocks"
   ]
  },
  {
   "cell_type": "code",
   "execution_count": 30,
   "metadata": {
    "collapsed": true
   },
   "outputs": [],
   "source": [
    "my_vector = tf.placeholder('float32', [None])\n",
    "# Compute the gradient of the next weird function over my_scalar and my_vector\n",
    "# Warning! Trying to understand the meaning of that function may result in permanent brain damage\n",
    "weird_psychotic_function = tf.reduce_mean(\n",
    "    (my_vector+my_scalar)**(1+tf.nn.moments(my_vector,[0])[1]) + \n",
    "    1./ tf.atan(my_scalar))/(my_scalar**2 + 1) + 0.01*tf.sin(\n",
    "    2*my_scalar**1.5)*(tf.reduce_sum(my_vector)* my_scalar**2\n",
    "                      )*tf.exp((my_scalar-4)**2)/(\n",
    "    1+tf.exp((my_scalar-4)**2))*(1.-(tf.exp(-(my_scalar-4)**2)\n",
    "                                    )/(1+tf.exp(-(my_scalar-4)**2)))**2\n",
    "\n",
    "der_by_scalar = tf.gradients(weird_psychotic_function, my_scalar)\n",
    "der_by_vector = tf.gradients(weird_psychotic_function, my_vector)"
   ]
  },
  {
   "cell_type": "code",
   "execution_count": 31,
   "metadata": {},
   "outputs": [
    {
     "data": {
      "image/png": "[encoded data removed]",
      "text/plain": [
       "<matplotlib.figure.Figure at 0x7fb184be4240>"
      ]
     },
     "metadata": {},
     "output_type": "display_data"
    }
   ],
   "source": [
    "# Plotting the derivative\n",
    "scalar_space = np.linspace(1, 7, 100)\n",
    "\n",
    "y = [s.run(weird_psychotic_function, {my_scalar:x, my_vector:[1, 2, 3]})\n",
    "     for x in scalar_space]\n",
    "\n",
    "plt.plot(scalar_space, y, label='function')\n",
    "\n",
    "y_der_by_scalar = [s.run(der_by_scalar,\n",
    "                         {my_scalar:x, my_vector:[1, 2, 3]})\n",
    "                   for x in scalar_space]\n",
    "\n",
    "plt.plot(scalar_space, y_der_by_scalar, label='derivative')\n",
    "plt.grid()\n",
    "plt.legend();"
   ]
  },
  {
   "cell_type": "markdown",
   "metadata": {},
   "source": [
    "# Almost done - optimizers\n",
    "\n",
    "While you can perform gradient descent by hand with automatic gradients from above, tensorflow also has some optimization methods implemented for you. Recall momentum & rmsprop?"
   ]
  },
  {
   "cell_type": "code",
   "execution_count": 32,
   "metadata": {
    "collapsed": true
   },
   "outputs": [],
   "source": [
    "y_guess = tf.Variable(np.zeros(2, dtype='float32'))\n",
    "y_true = tf.range(1, 3, dtype='float32')\n",
    "\n",
    "loss = tf.reduce_mean((y_guess - y_true + 0.5*tf.random_normal([2]))**2) \n",
    "\n",
    "step = tf.train.MomentumOptimizer(0.03, 0.5).minimize(loss, var_list=y_guess)"
   ]
  },
  {
   "cell_type": "markdown",
   "metadata": {},
   "source": [
    "Let's draw a trajectory of a gradient descent in 2D"
   ]
  },
  {
   "cell_type": "code",
   "execution_count": 33,
   "metadata": {},
   "outputs": [
    {
     "data": {
      "image/png": "[encoded data removed]",
      "text/plain": [
       "<matplotlib.figure.Figure at 0x7fb138567748>"
      ]
     },
     "metadata": {},
     "output_type": "display_data"
    }
   ],
   "source": [
    "from matplotlib import animation, rc\n",
    "import matplotlib_utils\n",
    "from IPython.display import HTML, display_html\n",
    "\n",
    "# nice figure settings\n",
    "fig, ax = plt.subplots()\n",
    "y_true_value = s.run(y_true)\n",
    "level_x = np.arange(0, 2, 0.02)\n",
    "level_y = np.arange(0, 3, 0.02)\n",
    "X, Y = np.meshgrid(level_x, level_y)\n",
    "Z = (X - y_true_value[0])**2 + (Y - y_true_value[1])**2\n",
    "ax.set_xlim(-0.02, 2)\n",
    "ax.set_ylim(-0.02, 3)\n",
    "s.run(tf.global_variables_initializer())\n",
    "ax.scatter(*s.run(y_true), c='red')\n",
    "contour = ax.contour(X, Y, Z, 10)\n",
    "ax.clabel(contour, inline=1, fontsize=10)\n",
    "line, = ax.plot([], [], lw=2)\n",
    "\n",
    "# start animation with empty trajectory\n",
    "def init():\n",
    "    line.set_data([], [])\n",
    "    return (line,)\n",
    "\n",
    "trajectory = [s.run(y_guess)]\n",
    "\n",
    "# one animation step (make one GD step)\n",
    "def animate(i):\n",
    "    s.run(step)\n",
    "    trajectory.append(s.run(y_guess))\n",
    "    line.set_data(*zip(*trajectory))\n",
    "    return (line,)\n",
    "\n",
    "anim = animation.FuncAnimation(fig, animate, init_func=init,\n",
    "                               frames=100, interval=20, blit=True)"
   ]
  },
  {
   "cell_type": "code",
   "execution_count": 34,
   "metadata": {},
   "outputs": [
    {
     "data": {
      "text/html": [
       "<video width=\"432\" height=\"288\" controls autoplay loop>\n",
       "  <source type=\"video/mp4\" src=\"data:video/mp4;base64,AAAAHGZ0eXBNNFYgAAACAGlzb21pc28yYXZjMQAAAAhmcmVlAABNi21kYXQAAAKuBgX//6rcRem9\n",
       "5tlIt5Ys2CDZI+7veDI2NCAtIGNvcmUgMTQ4IHIyNjQzIDVjNjU3MDQgLSBILjI2NC9NUEVHLTQg\n",
       "QVZDIGNvZGVjIC0gQ29weWxlZnQgMjAwMy0yMDE1IC0gaHR0cDovL3d3dy52aWRlb2xhbi5vcmcv\n",
       "eDI2NC5odG1sIC0gb3B0aW9uczogY2FiYWM9MSByZWY9MyBkZWJsb2NrPTE6MDowIGFuYWx5c2U9\n",
       "MHgzOjB4MTEzIG1lPWhleCBzdWJtZT03IHBzeT0xIHBzeV9yZD0xLjAwOjAuMDAgbWl4ZWRfcmVm\n",
       "PTEgbWVfcmFuZ2U9MTYgY2hyb21hX21lPTEgdHJlbGxpcz0xIDh4OGRjdD0xIGNxbT0wIGRlYWR6\n",
       "b25lPTIxLDExIGZhc3RfcHNraXA9MSBjaHJvbWFfcXBfb2Zmc2V0PS0yIHRocmVhZHM9OSBsb29r\n",
       "YWhlYWRfdGhyZWFkcz0xIHNsaWNlZF90aHJlYWRzPTAgbnI9MCBkZWNpbWF0ZT0xIGludGVybGFj\n",
       "ZWQ9MCBibHVyYXlfY29tcGF0PTAgY29uc3RyYWluZWRfaW50cmE9MCBiZnJhbWVzPTMgYl9weXJh\n",
       "bWlkPTIgYl9hZGFwdD0xIGJfYmlhcz0wIGRpcmVjdD0xIHdlaWdodGI9MSBvcGVuX2dvcD0wIHdl\n",
       "aWdodHA9MiBrZXlpbnQ9MjUwIGtleWludF9taW49MjUgc2NlbmVjdXQ9NDAgaW50cmFfcmVmcmVz\n",
       "aD0wIHJjX2xvb2thaGVhZD00MCByYz1jcmYgbWJ0cmVlPTEgY3JmPTIzLjAgcWNvbXA9MC42MCBx\n",
       "cG1pbj0wIHFwbWF4PTY5IHFwc3RlcD00IGlwX3JhdGlvPTEuNDAgYXE9MToxLjAwAIAAADKBZYiE\n",
       "ADP//vbsvgU1/Z/QlxEsxdpKcD4qpICAdzTAAAADAAB4He8+UME3qAgRXU+O3+/edMJ0DnCMXWPN\n",
       "eZygE92gs3qdzsl1RjH5VUqIbQW4lbEY1EhCwAAAp+d7WlESNH8y4yoHWdjEy3i5zj0iR5r7oD4c\n",
       "evRGf5YZpSE2T/MqtpALqtLPBV7Di/jhpp/BE5Hr5txSfEu67UvppgZwAi2i8q+512MwmU2ndWiZ\n",
       "0/gy29dsLpujNTmKwjGLSMJz2YilEL4r07flZfkmw/NVWvox9hjJ1m9L6gw8Ob76LAgnuCGgc52d\n",
       "Dha90pVUIyCF8fKxNLt4Gbva9jGQsOR1327NyC2X7ON7gecpbjvz3Mtumnet+DhqiiQX2r6+ex3K\n",
       "UIboAKQlLQfGXbSRo+zfPXXlcAq497i8YsYhV4qxiPAJOu7czM80g4LGjbRY6+1qIA4l9hm/SuOm\n",
       "kJhBZIbKIk9WF7RsjjGFOAdS/rNzWx+Oc4WL30dHn9bymJE+/o6VRBxvsG8BcsmPaAMG1vUannqL\n",
       "i6L3pdl3hHgqFTFNhoreScQKNSVCM7qfSh2BWfXn/oAWuSe5NxbT0yu/Rp2N5gIyqPOjHIlspSgq\n",
       "xbess6Djpl8fXHUGJZbdH+ex4aWjROxi/9c7iGaE8uOMOB9wPXwXhicJjay35RBRf9DvLHwOVQDF\n",
       "8F/3WM2et/+aVVjVA4vGmnd2udW7ZM+XwHTxgp9t74x13KyDl5SEbLup2dMZHg1FjkyM7k3RBxuN\n",
       "wcv99vIZF3502Mtj97eqCA6nq+EFKOvwAak1VMmF6l9o9jHoNBbrKkF5kOoxmxsAZWQ6FHZPGqhA\n",
       "xdZhsFrOSfdS91UjOPCYwd9//mdCThpuQK8y9aR4CYWf0SH6PFBje3T+Uppd2gaZueG8EyMJSsDf\n",
       "3zew6EDyNS6CNWV0M6OMzF7htHJaIBdXPtfaFQSRyC9sgHfoMOKstKQHpfrbK0WLXEeyOtczBE+i\n",
       "LbeT/hflOXKnQuBvXTVP4p2DdqqTzZQcg5iy+dQB0sRzfzKMA9tyrtN3NuT8isMNo53GXkDccYu+\n",
       "jNnUEY5F6d4fN4eD9p+SxlYvhUVi3nkosieWiluS3/2IFUnY4kJ5jky0ldhLl7nRhFt8NPzrW+CF\n",
       "4i3g8vVYe2GaZBHog9VQcUyirOnVBxdG1BM51/LOGAGJFflZU7zm2/z4tr+SY7QexJlgcySU4/dy\n",
       "jlANYfN8kC/bEXOlvjNpYxIWQjrgcRnoKNl1SNoHqljPu/BNaZCeH49BAYbJlhIZRIeXdoh7bSQH\n",
       "ryNnUxZWsPd/MUq9Hj6nGa9NB3gZFy8gwR85mVrB9j0dOqXJ4DEKv0rkG+BtnOtiPZg/8o4B8UOU\n",
       "Jt0HR+SxVCIvgeuWBauvS5UlZq0uxbKQFioxdewXSVcedNh8ZoLgT/234NOxIst3FPuPTYQn8Mlh\n",
       "yDOVtiVbEfJHrszn0YAAGJTn1a+VLpS/jUeaLxxnIzaSWY2AUC4CcBegGkrz13SeKcfhz7/HfPEI\n",
       "0OBXCV35mSEBAs526ysd5XeSM8LSvV+TjcMhPppYKtV8eDNMdF7crn1qwVzJm3Jfi09llA/l6cz9\n",
       "UnmfF6WbX6gGvnzoGC06I3qbQepPsoYythH2w/NnyQ6qwBrJxZaszyyBcMpThd1i1k6eXC3SDmsJ\n",
       "W8q2XEtTOFBeBWCKza/vlyt0q8sb+cKNdMNwv2JntO3rK8Jo30osrz1F3U+xHHQzvVqYKmTYujVp\n",
       "12UDMvJmLCa6rTNIt84pOlV75ThwG0q2FRt3I6jf4pVWCtHBAm3AJkiDxHyXzD6pr1u82tiGTR+C\n",
       "L7ZrCc00c8qSY3sidIJEMTrdOFraZPaUfMD5Ay8pK/tgQ4vg1cuHJKhNOCDrLaUEeli72eyYrew6\n",
       "Xx5vL41axaNHcScR4T6h5hvTefgxmyDHPT+LA6LT12eJfBSLS6webJ4e9ATOXcvZ9Y8bc9gV3yE8\n",
       "SReHlboFRUeyeCh4AjgycvnNM64dvUfEZngvZ+iDxPIp+HliuUknhiIQ9/IxdyXBKTZN8aioAOge\n",
       "ID8do/MGFEOtxsELXSWsmk4qZdxCJC9WFuBBjW82uz1Lbz2NqH1kxdI5Uuf/HrYZ03H4BmZR2w0r\n",
       "F/qhXEu+A2MvJjkZH6C+SZg2nH8NlPkddAhAijN41p2Hib/3UIOXef8NA4tPWIUUom9m9rXqQ8H8\n",
       "SrrHaww3deWaQ7NhtaONoDm+J8qAHKu5qatxsrgVFCEPTLzs/5gXZBtL9XzENRrQZnxF8EIoISEi\n",
       "13fmK1fG/KvSN/58QAm5PA+6HXyrIVQ2d2w4c19opOa3qDFYQyXAQQaXnW1Qq21clLFidddW1N7c\n",
       "DhG0RPvIurSHu2szKUcgulr06HA+Pb3tIfM/OlQns7M2Ku6GWxc9vIdt1DQti1w12fzAmeDwPh+n\n",
       "d3A2SDZsoK+6mKC6HTNgjWuN67PAQ9DydQTD8mCLCFQN8GXCEOmq8AEtqJYUWIgmxxxM5bcu8dio\n",
       "2q/UnVfK0ZodmRthMbrz0cxtV053moWAfPqY5c7OEsgyn6auOQGHMhSpZjwwVry2Q3PwAay8V1Db\n",
       "vsMMFwGhpjQV9bq9msejIe877StnHN++XZUAfY49zLFjUoBWRqIzKD21QmFAILJp4IBpglFkPz3S\n",
       "AquXjCHm4TEXi5ecp+w32pJ4vzvkW+Nx6DolPo/hUkanT3k3jxFmivCIQ3D1jm15f+eU7YJ4ivuB\n",
       "0J2twIU7oM6A/DfTsIvy8Gaor08EnVwlY75cwJUEmsNWzwfaSatInR5J9wV4EzZ4XM2kp5tLK1Hy\n",
       "530PzXt9a6sKimdJkYUh3V++HIO/fEextfjhyTq0vmPijgkUIn16ce5iKS4NpvlOyIMb7gjZgza1\n",
       "NfPl4VSwczsYFLDNvpG/Af7fimLtQUFygdWcApzzQ/fBovXNdSdP7p/50sBKFOEW3L36uy98ySMW\n",
       "V7O2MTiYHbSXk3dGEpEQzt4fCCgiwg4Q3dDhvfgtnkxtOhYkU4XjQgCQJuH8yRw5beEsjLd0c/La\n",
       "HKz+IZaepYAApzfq8YLdGs1L3aHiEABgwHh2SlG7woydxfebFECavAnGVSYck53Vj742FaZMzDfw\n",
       "7uZGoiqDeFiu+47tFaAiVDfvaReIxl6EyGI8fkgsG8iqAP+BGcaKXBGriVXN+Ucr6/6HOPm3VQ5Z\n",
       "F4EX71bFmF9JDmdiOc77NBaEJAM68MHq8Z2Xte3xW2p0gbA5G3Kf7JnpmcAP/F5g6dHYNJoajMkQ\n",
       "68F9yRjzQvp8R0JKJs9AUKgS5ZZTfWqUSHHIVYrhY3uuY+dP9Kb9bTd4M4cG0loo61nnVRUQZyTx\n",
       "lWVQQbuak8MG9ODFMNuX1SLMGLWp0oIFt1kYpcgYcn6tQcZ8Tn6b9zS4NSRICX6VzmYiCBCC4II+\n",
       "MjY0jMyL8Sgcp2fWJ+annKq/XRttLvS6/wU1kBQ0x3HtX2wSkEGq3Oai/MeilMylGozPVF/F6Jrv\n",
       "heItp5SP3K8TxSzq90bjpyhHFqGOTotCln/iLxsAQQLWRW3IzMxc1rLrOuAmhXPCF9jud11nCjQA\n",
       "JVJcka57Bvzu+KAkaEqGZkIQFTViTfFt4NgTeBEgxuASHc1pNOd3aqs/u59elnTMz3DYs5WEg/P+\n",
       "Iz+TqRTu/F6ZxfuTZivy0JAAE+h1l0pwxWXcorR+xT0zlnmGvJBVP2j4/zbmYHuzAxjQN2O5/FMe\n",
       "eD2QBnSoznuJQmgmQ+1TBmE13KTLeV2AnZ4kWhzoXi/KgKGu31/mX1kERF3/+KAp4xZVfWTiiGYs\n",
       "ubEy/a6him7ZQafYXfMA12kPV6HOhOkdGUEh9PH2RcX37y4wv3pPG58o3rlQVDy6blCnjA6iNpmb\n",
       "fRngRIyMCqLEfzDuUU/bbgz+ZFGPb7YHOjkquwz+t3IHp3jnHGBdev0O9KCRf+GvFtYrLCfmHRSy\n",
       "NVu/rZmhWA+1xwZZk8G6KmScfhfFBF1Hm+KKfGFSK9YBYJMdLJQoIKV9ipihpufHPtWDBPuDUwp+\n",
       "gQZXUvZoifp3Wei812KT6WTKG05Ze4fRI7tR+tpk3ysaBXRmdrGztv+CLmczCRTyPra8ikA6FSDO\n",
       "vyXMIjcfQMkoTyU5cQbGdZcjbvVa0BhtesJYRWOq859ZDk4qBSzdAbVoxtalcTPzQm5rQ++TRpCj\n",
       "5r9qkJQVZEU4YBwOOn22CJQy9saXY4cipBkL2hQxbpHT+oFakTMsdNXkNAPgP9h4dujCTDnZ2kBG\n",
       "zHeA8HdEvtIF057r9bISB//mPfWgJMGlEY8Is1xZAE2zZahN3yklHyFPVt3ZBwD35fLxOTy4j6Xp\n",
       "Kt0ufnZRexgXhDuRRruSgZlUoZuAg6bWtleeuKl0VBxCx4ULMqbZyp9aJCfv8qX/6sJlxdPquVuj\n",
       "/5v8Hroc3s0S/uwDgOufcNanbF7I4YKEM6Yjz3ul8GUPCvc9739NyVCIoSOm4aXUBULAKuv9n3TK\n",
       "tgLuBbJYbRf6j7WPyEkuZ4dkHxnf2kwIx4r5JNkfWdseexYvpspLKk4AIOtPJfZGX1MUVtjj422O\n",
       "b3G7V0i8FMJWAgR1K1TaTJ19FNXTI7ZyLswbwr99DI5uwLYKXjETC6KM6lVAxoCRHECxk2RFy9Vo\n",
       "rdSx6F1AbRkyPQ6SslxZoVc8WhR993wfPvYSQ73jEbXv2U2at/bMAvDtreK9GtQCHomOINym7LCD\n",
       "J3C8hH/aci+Y9XIH6E4Cho5PjxMQcnYG2+BBgGtpQFwClEEf/Gyyz6pnvFLBvaH8adbSG5qLz13k\n",
       "hGeY8Q38M30R59JYA6o44Aa1rRzdjzO6BWko9jdUsnziof3AqTvaszlgyj7ZqEJb+jEeg+nOopaV\n",
       "UBwf7pCrCBwr2/vYQH0qjMvvbsKE7OShd2WmxfDYHeQowDKi/Y45zdrisXai2E0yKkdyvjaaHx32\n",
       "x//W80D3bvme3JFqDoTYqPpuDPlv/nHGiT+yynKVT/9lr5J2DnEiW4yHNnRU2J5WMCzmRbR0rpOh\n",
       "gsNUFodI4OGRfGN/5MbApEd7+6TpEDA13CtR4WWd9dDmUHQFRIMWrCdi5Oc7/iZeGhjc7wrTOI2Z\n",
       "dlqYdOqETDFOxM4T17CsUAaOualnc+5/4jnewBsIMXSyHrLwl/DCSZxRCFCoC/RNnofIbp2ZeW3i\n",
       "S7RRarOu8cL9isa2+IEF7NSzEwnFxGeXaK68wvB83CkCWsodl5TM1OMaJ9OmwEp1cjpTf9S7Zdrn\n",
       "dGQ6dE/TJTREmFh4e25/BoYa+KfzcSdsIloNsIv49RA0yv2l4MMMRO11dmYd11xUutMg9H08alOH\n",
       "t3rgN3uvzrJrhi3JvvolX5qxsYcQelTMw4vUtlYL4CUnlFvMwJkGXW3n5KWa4NeFqC6FI8lZXieU\n",
       "OtiZNO/4M2IVHnEFHley3PpLNDD4NlKA9zRakzj7W40PmfQ6QHLGSmtYkuYdRFQP78y7mJS4sR/P\n",
       "Uxxbh9PNO9Ds3Y9qPLMyexW+gZ7NI7A5w51kSju+lK5N62L13Al1vlvHdgdkfy9d/EhF4p9h5t9X\n",
       "9w6aNXLyP9JjIOllIKPkv6NV2YOvm6r58AjMi5dqsqO61ayk1uzds+UfG/sMV8QJN/ellbpvq0sg\n",
       "b2gstt/ICZG+fDQjVcvMDQxs/RbYRdybXXyXTBusOp7Sst7r0ebk6BkDibyuHcE/6NwDFC4SedGe\n",
       "qsik5wiTgpPKIkBHCC4J6tHLlJ1DNBrMW+VsEwLx/wXjoIriFRcVnT2iG4mm4zUuGhIzkWsolvFu\n",
       "DylHvL8PcETDwBRKiJ3hP6LVzBkon3sXW+fNhorpZreM2W2dquEtDQtAJQVWHiC26ofXv+4DyxxR\n",
       "DWdJAKbO+56GpjAUVP7V53+1PqYMQNAyaPsLsSk005Xy50SB7ZL+1u+ZpZFwfZnYOgFqFjj5z3pb\n",
       "g2fJiuRTJK+G6rf0yWdEVUGksx6XomKA9ml40KRgA15HG+kOioL5X2ht3nYUFcbcG1NH1HtKQMol\n",
       "RaZNBESTfN5Fzi40TFvgcrnASEFE8gYXB4PhN3vxrzr6hhDwy3dyGUJjzLOcmTJzWPRy4q4qaB9z\n",
       "85rCLHHuX3BaTpD1PxXKUKXHG5Il/V26PrPTzVN/QOW8QZ8gvB2mSNGZrZ9tVI0FxJpeYW3JMfmg\n",
       "+ZLsaLKtWMPffqu96ByqRgE4OHl7N9viSSK8HXO3eU4zZEc9Mg4JoIcJi2L49DC6Q7KE279+03WF\n",
       "FQ7XEj4EiOnZos2DvaPOYVrZuV/SwYa+vcia8muv7OXkyvxLOmC8qc+W7M3vac/2rHypOFeFt+Dk\n",
       "avLl1aI8B0fMOl/mqyAKDT4A5l3f/tYX6kV2wTJPu9Gj5VZ+bm6nKBvoDV5D3DeBTzFuKoEByVyh\n",
       "qe9alIQ3IbqBp7TKkT20+TCzmjr3L5RCGmEMMblJRZ3dhQQmjkmEYN7dXOFvJfFNmnRtuwWYXeQ7\n",
       "UhGv0T6qnzyCY3XgTJFTA5sMLEqdVYHp3tEnyf4cei/qe4EjTw95eQuEKbArMsB4/cZZds5W/jO7\n",
       "Ib3Xz45MJU+RRaK/BfyXt1jQfV6ydw2K+dDjdiEX2yFQjTi4hN4SPw0QfQkh1nytxYyXvwFZgatP\n",
       "M/D5Ap5AuVrzkU7MWMl5AzIxIl/VaTB57h5LlmzIMOfKNaNPAi/oE52CDC79x6OpoVdulFhOZ6AI\n",
       "n01jHhawVY0EoFMks9hgGbPPHvCrW/yATNFVBrExVxycFhZjyGMbXri88duJ3RVnlkAXFS//08xs\n",
       "vE1XNo7dFtKXGWd6aStmuH6Z9X6TECBT78NybIxTAwVHPdfynMLZxepjcmtvBvjUTdNR2b2fG+H7\n",
       "r+kZUxEyQx/YGMiP9oQ75lUNB5NhQjVMwT2wb4NIU4Ja2fELlC9yS9tSDDsRjBMU0Ae5vEuHx1HQ\n",
       "mvbxgoeA9MEt7PGmLKvZWOC1K54D2vza6kg45RxsYBFANcSz0llYlddtUPnaw2DcxswBnYg/tDa9\n",
       "wXEPi2FCcdb8C+zBGPm9nq/fPQVmculRqMcvGWXTTLVy50yGQDCcWj5wAx4PZGIxz14B6jHXbVam\n",
       "pXimjNj6XX7yZtb8eElDc5fTRRoHpUti7NmnwQHANXe55P/kzKaitUkzc0G8qJejwJcQd+a8qBDa\n",
       "GbF7iZkBGTeHN7dvrPeRPFJ6mCTFFDpF66IvYlfMpNiG8sobgzogdHsrOGiCeOg76a4KvlHcQKJw\n",
       "ZHj+0phQKdtAEG5Vtxvjl0YSkcg1kkcww92jSiyGipP8T3q8uD5wZQPXb6yyBmLNVh4vY8+MrE6w\n",
       "x8ZREc5EucCE4+U/HbbUVzzTa7a85SuNysM0uLRjt+yH/GkQPUS7y9/e/J1zQ6MbV5XLS2n+tNVq\n",
       "/I2y6KvoxcRTsNgJXy+HNoTyjjdTybBTGnLzBwbqP3xLbZ71DmO9aMnK+HujA3m9RIoMLZRZ+/RU\n",
       "AJQp3pNAjguoXk2kBUIytkoAos0uwZ4dNRc0Ektn100c9dSsqEdhxOD6yab2Lo+lK2gvAFA7zswR\n",
       "D4/VflkDHXMFYjybAZOTtlqSR2uRQ3YsY5BopdFjSVh0R+1X1A8XbldRZ/gfbUNgPQjVq/vggzry\n",
       "DYKJ08zZos9hsfd+3hsmDyo4hhIhCgTXyA29fIqYZzDZ81Q4zsqGiynEQy9s2kmV6URjQaEEaV6a\n",
       "EA7CN8B2x7DT1mGiEMrBE+nbT+zCF8094NdxRIkCOxHiqf8x8fuO4sjb8qBB21Lrs1KzwPWXAuv/\n",
       "2b+6s6WRHVuCkIzm5v0vxTMEQU5U6pv76Cy3tZy6khDs9xyFelZ6n3BcuSLc0tyERMJ56oE4knd3\n",
       "D8L5vxJnYFymPBgsOJM+JR0oOGKnZ+IRcLMw3IdibhDnkQ1SB/IUxka1OtQF4raRWwNBQOUc6MDE\n",
       "+CNP2q0H0M3LkAHy+7z4DpP1R6txFX2e7NMTM7i4gT3326C8zeAtIxpAjqAuaFXgK/RxMtXMpSvI\n",
       "tPKxGexom5TIjITeQ0DC2K46rqvIhZPju76DVfdGwuaZ9p3PziyYy6mXRQ/KLe5X3NXwoL91YSJh\n",
       "4TjC3GtI47gkBq8itAu0FLGZbdh9mirIhxq6NT6R/FtT+IRh5vBs0un43A/TE1IpC3k0MvqJfdI0\n",
       "cmXgrSF0UvU8cXCzx+5jUvdg+e3jRpIXT6zhFjD3UVORG6lzJ5qhB64GZ9/8Oo3YmWa5XTs9rvq4\n",
       "E0TohHQOHvJjWgxCuJOSKAkMtfqjD7E0XO85kC9uxc21DZSJi1hmK+JzEL7s+954UkreaHNd2Nti\n",
       "k5llGm1m4JLK6IY+m4BgSL6c9YfzU/r4Wo8uFHWEf8ACE2bAYhvrnMQZERvKmSF+Ok45r29oxcoJ\n",
       "xEYD6gHRi8jf9lpdKRTIVEBntQicw06zsrSnXCNUQMEic/FRTbkH5u0bVWb8nftJ8wR5ftohzBVG\n",
       "4fNBOGOyj88ag6GTcGMsUd70H7jJ14T9vSOnxlCqfQ6pQAOZL3oFbCTL76nwnJ/e3YfnIr8cnq+2\n",
       "mWBcl2lJgK2ipkV1g1lWnrvYUNWERTZu7MASB7q2oyeexD7MkG7Iv7V2qO+GZ55tYSjji6+IMgfO\n",
       "yop6j9rxY7du/dVk9u3aJXb/MZAUcLfSLdcjOHwrUnjzPa3rC8FZT1QLgCwmDZ0Sw+QxPZGSN/xt\n",
       "mHRzFA8+rvgYbU+kzLE22S+i1nBN62LyxZ15T1mVf9ExcWZgpbL5lO6qtto728JcputHrSaNZHGP\n",
       "1DZRgmA0bofpC5uHLIVt1x66M60w8FI/SncCdlpldk5CamPI1O5fKfocu+KRNsN/3Fr3PgiTtPHc\n",
       "0rn026Z1hR8F3jtQ/fWDDeiAYYc4JhfClcLbjQiVxSfo7PuegMcmycQ3aP/xa+9aVHdJ6fHLR46K\n",
       "cC071s1vjr4XJZK/09Bo+HOloxgKIKEt4Ex0qHrh70dEGTCgYYa2LABQ3XecJOGVMy2c21FwOwOD\n",
       "sDlKGYcYtyhj3A0EwG0azpk0TA7DqF0AlMXP2RAs9he6kV8ItkubF6e192GqCqcs6nb3licHEv4x\n",
       "HOvd9AsOwIisAUbYhzW+cHTSLXgcKaAQZ5dm88jmIBAfdiysHUV1unxHbC1B0JxIHlxp1ZwsIxXZ\n",
       "Ag/yDjk9uvAx/RDt2wGJrxrrP2/slCpBQj7OeMAKAfdrlyHkTU1NBNDYEjBcnazKqJ4+aWdr4trY\n",
       "ll7chD/OQRTAEMAFVdgf5zFaII59gfPF3Z6LOYmnl/Wwdr/Qt+mkR1H7AyZ99edDhe9eIBdPh015\n",
       "srXY0C068LiNKr/szoOoHRrLjFlGC896k5C2CDPv2MQhuk95j3yWYvHnfMWzzRVN/BDNQN4T9CaA\n",
       "KihgVMwtiiU+jriPlvOizTaEP5y8NssB1ydpZljkmRCfKBrhqml8VT12glzfqdkvbIhMo37KhaRJ\n",
       "VMdBa6D7WeOhWW03q0hjulP8RcxHMeLXtHeIi7fvZekKypvU6rP350q7YmsXjNOES2keeXO2ddJ5\n",
       "OgaHd+Yo8wW4eePo6qc04uFyUAjf5iGI+KQmad59J4RnqwQK6duW5GDuV3AG/hz8t6QFUrr5xH9E\n",
       "eYKJWb2QiXvqvitadeanfhBmuemOsxhmqU93DCo4NbVdEcJeVkTDkfHx2suRC8bG74cmGA4RrjsU\n",
       "CIMXgoB4k5RkG+tWlg0aLhBRxRsNH27AkjFIEPNXjtbRuGGAgxPDVvGY9h9q/p/JwzcyXuyobpoc\n",
       "u4L1S9VjW4gW+sGf3xVICRAoNnJdQbCIlwpJKuivTtpFPP6d92KJUTAG4NQnf0UOJRDMk30jc5x1\n",
       "CJgPuGySfp/C87Q2GLIXfBwZMV2MGqh/9XAsh4m41y4p++wO2+yCUN/R2lfyt+kUn/XRCgOfzYEo\n",
       "o4cCReUWqfk7/MBenAnjdgryPnFoNkwQHX4Q/K3bWuN/d81gvBjqyr6Z/TjFiMRrifP7nm+z9oU2\n",
       "6jJ1lvRiO0aZzqaj86A/MjRbuja6BUk4kCf3MxGODrhHPWMEICuBoeonNOCF4II/ovKGrhva9jLy\n",
       "P7PBoZYjbmF0DgFDkg6jy+bWBNTOYi3Jufh9UTkygWhI2aNkwicYima58XJ9zkMb7nBBNESw+68L\n",
       "5ZtELQN3/C4MHx9ZRb4HCf5oPI0Vn3XNYG9YQZbigZV2D48LZM/eBI1BXHkqmZNz5bQgfl3nUGJ1\n",
       "wti0vrGoMtnR2vJVV5sYWerNCh3qC13xIP7CAwQLyWbpw4qs/Y9iqaT3c5MMe+BJS3nAgdtjjGZQ\n",
       "iWHWAYGzTke6a4+DyqrOI/Vzn9XUDagTGOGRGw+lB41y2U46HZK9mf/XbmvZJTLPMrKaO6XYuraa\n",
       "ZRKupvo+/VWHJhrcOqqO2vhVBR88OTbK3R4BxGNHyeZlbydYfWld129gYFeCTWtR8HSdRx8ML19V\n",
       "yLvl2eYEHXouyBL/XBihgCati9gAdm/sitFXXjt+QfhZ/VpTtBuSWyG6j64kvuuCvz/G2mc1OzMn\n",
       "p9cpFUIF6jLZ+b1LXWYiZ97sa7CCoqj1Ysk8tZePMh8B5yTmRl/S/ctiHRmSI7ReG5sTyMWNHNt0\n",
       "oE6lnslFAaAfdUv7aukenQl89oiAcKP1Qpl2IewYiEoJvotp5lbz2fX5Jg1xuX6O01sZCyzApF1m\n",
       "rrNpFH5VxuRbWLcHgWwRKxvZxSbwvNyl8zXs26/OAmkCnxnxB+6tI4y35Vo1q7cvh36BoDSLOT/5\n",
       "5a76t9lcKr2+rbXita66nerp44qOGAlJyfKSgavZXlJGWioBPZLVCCAS8r6DcOFg/0Kg4bW77BkL\n",
       "hKWU1FW0gj8xdqDaB2vZEMQQM0xPRHcwr8deCcVYCADLIr998fMsZZt0DlyQx7rw3Fvd731AfOG+\n",
       "71V/8GckfM0aSFzE1az55985hWr/EDUJOYqxm/acM06Vc+JbkGoG/Lh18b4kq+Y00dNFNJpvB41i\n",
       "jzx8Iz7B5xYv7DLJwHO0lBFuZBEeq5zrTQlfWrom54aU4Bzb2h+Og2mOrpFVoPgDn5WKnYy/1BOa\n",
       "BHig71SF9wIQKeZIpqgfeXL3IuwY1hfI43dG43q34rWYxAry6cKENeZ+zDn0FxWOfyJ049LgbmNp\n",
       "TvwnYB7sCBi7XpgrT9AVHVo5KAm5H7tUlZdhCzIq5IpvDNB46Eaw4X/aIJLlwB8QGIpnFkZ67Kfb\n",
       "Zn6HJ0A6SoqzU6KFYlX9SRn5txdXM50nIa/4u7XlVfs4QtKQ3pdKyZtY7nzRhWxxVVShFNELMon6\n",
       "fzeyIDVWhpV5W3BS9283ks9HsuuQHYsgpnxyufgkqC54ceqwJdsh0JTupDiyOz0U87aay4u94bIG\n",
       "8xdr7+JDbrPjXy14SFON0B8wiTZuAzJajKtHvJ7fJ/0lT+2qXV9E2ExIeuNNRvWyPYT6XwK5HHeR\n",
       "rp2TCs89UjzPBUXOxM3ji+Q1GFaIcEypGGClhhW/NYiiM2YMc1umhv5H25M02+lQ7/jFyCDlcMZn\n",
       "INZ9qwmqchbUzUaOEtV2sp7fTd7Wmymc0lGtOiDgXnYTnUGrFhJVYeP3FVEFw3fJxcqOC2torYw2\n",
       "CFuHv7gTpFTv23AxQCjh06CEtWxQnmfs5yxawrtRj7t0blu5d6JVuQM8WhUD9fX3bOSbAb2OVBRz\n",
       "Rt7J8U3N1rlGo96Pt8aZC1Wy3Wh4pCmcbEEjosSLhw2Qna81L8vxP3vSyQK9eRPZt4Q069NOmkM2\n",
       "clbM0uLThvn1Y3v6IRAb9thxFpCNIPtbVtBiO83n1FVmv4AwxbEjACgQxktzwRAcAVQDPD5g9s7E\n",
       "X15bJWJEzDNjPEU0Qhndtlu7QIC55OQYQRm24wn3gMBRPoBgZ+8gaM+Yf7FPzmFujIQfFVh4P+54\n",
       "zpBqtxn+MhpG3odZbAaiSHZ4Wx967pV2KSW9otKHtID8N8i8XEKxaSsL6dyc5I2pFgxb+cXnTNI/\n",
       "/9yWNOW191mOe+Kd1cK2/koiWdvX9/eEKVJiFvnRYff8/INE9tSu+j2L4p6P9z+tc740xzm9uzHh\n",
       "bZge78SpLrARnfMdQbrLlmFAUC9jTYwfKB71KWMWPxQ2snw1xQR/5uLYH+2Z+X2i8casSkMcRATp\n",
       "POfww4v/lxpTl4ZHK6+CQi8+8fa8E+xeJ/h3MVVL8j4Y1VYZVrTsaK4v2OC5VTH2KPLfCX6kL5qL\n",
       "v12RuVZypWBWKUXfwZHmlYhXxvdiO4BCEf+fCAS7oCofXcfbpYiqzI2t7lH6ybsPy0bG7TOpzQnK\n",
       "EwE8p36mYs7QZghYL7pmo/aGJVIpD6HOBV3tQbMUcd7V+p498VDedflUvfDikO1yvRlUf9nK6Rsu\n",
       "PXos3gGEcksey0Dnb04KGmPHBHhlXMdapv9BNlIQ78Be2z1szsUY23a8uijRNSEA9T6JfebjaKBE\n",
       "L/UO+PUELf6ztCNegJJn673kBLCk/DXqIuebQ/0TJv4bKyv12tg98JYjWMyBYlCNRv7Ds4gbX55L\n",
       "PNz6hiXd1ocEjzPAjSfPCRA9r2SrDaBm16vqWMwu9ATQsbYjRbIHzGlCdUKIXT3Vl44xuCmL7fKc\n",
       "7xcXqCzTA+q/IT+aVqYIy9zkGWoTUDtENSFCfohftNLHvftdR03MKan5+PJKMI/upVe1WI9lymI5\n",
       "HqQVzNnIH1608U5WVl7gYXJJ6FGTRiqmNr+zE7uV43y+x6pGL9ja5HPzS/fx/cSGZsTwBTBURt+p\n",
       "FvxAqIOhou9L6JprIWPNLG+9a3Utf8UHZsQmqb8GUOgk3et5cxoKeU+IsJK53nJnOHO2kRQcO0eR\n",
       "/1XvwNKzUgPcnIHvwVAzFkf8QGpoUUgcEynAqaOePUVhdJKkaBrHqWLe4QKVfZbAObgCpjdDAGkv\n",
       "qbrsunjFyhU5RbmrLEHX7OZcyakn+LvXByc5FW1dt5wLHsY4lnbU4VUW8Yy4gz+0vGXce/8dPDGs\n",
       "W6M4r0vzOzj568gVHRNpyHa0U9XuFz28mrtphNqB4hj9bsRj4+u0jiUkZ9tTPvz70sUQKdzUohfx\n",
       "chzrLBrY3gji+k9v2R03aPGc+JqRgmuicbthb2MkN5pNJ9oxEDtcnSv2nW4rxpAMJhliLNMiJNZ+\n",
       "vMfhCY391hl/y5p7a8C4TX94lQ5z/HshGAq7twfwE5CWAOZP2gZkqO2hTusM3ZIC3sb8qAFjnSfC\n",
       "ZoP+h1+wq1u0z8HU8AMcmpIA+Knv1ozCwWP58HHuWpmKFmWA1Lx+U5fbcET5PuXX0s3dNrS5lagR\n",
       "HNNGs1yrn9cWynFqTMf0Q9LAjMyqUdYT6aDuCj0PgOqjcXTE03nCFde2glopqhUn9X5Xd8TVIbq0\n",
       "nWQrSbDJl4NjtFFoJUwApt17v4L1RroodozL2kkNTnqjiIzEz0H5sJ0HxnMU2IFe8a4z/nglJJVG\n",
       "FQgbsRwyywCKRUNHIXIHn/q6FOv4gtp5NTnkiD+IQrRHBnH+Lw6OktjbIG/04mAcd5qCBgSMy1cJ\n",
       "qzJ7h5/53PKp1ojbTdp+++ER2RzP2/PRsxdF+tbea988aBuul/twHGlZ55JzEMRP6ie2hQn1wuhX\n",
       "P9O1IqOLvst2BNKqB6iIBdaif5fafOEhdGW4oCDMk/IienYBN0k66x1hZW37OVw25xoVgsLlvIoi\n",
       "n0POxS18cxc7ETGKhMKXIobE5ZiTbqXt5zMDGN3Pe2dCd/SqZtRoHFrZ25agUYUAe6HTpCT/J5vW\n",
       "T4OqducKFmRTeEyhziogyA0vYQ0RvNq1B0D+pnOPqqhF510dQ1j+nGpRM8WyM0WvOdIzHZmv5TFV\n",
       "wBVZ+9gB1T5b9HgTDI8qcC9FC9TUGhVoAWDr4Rpab03xXhFaHUmdGH96QKRcPy+DnPc33pWAd4yV\n",
       "ldg5TLxF/4+HQQ2DjPq931+9sDk27g1wy0hxGf3CfLAnavp2D3IncWnia5+pHe4pugmDG1c2iEHS\n",
       "7IhrTqSk0pyqKsS4qX0UIGrtxYYgjZ6TmLCFx81eqLqMOn+pm1DaXj2Xp2eMNnhaMTwk80DZFieO\n",
       "8mJKFmwh5BHXzsyJJRRxNzAyl1BX2zOMWAtmRwdH+IhZmFoyMchLyxdUwld5dGkHItXHHil8fh7j\n",
       "ok/FxS+FmBJqV5FD/ZmCm3ehdY4GhikWBJmi897KcvdpPiCViZ4Buzanvmk5fJBxju2kDxwqtkIy\n",
       "NX6XHzq2FvZ5+h8vZ2r8z9/tIGf71Ac3IYo9SB3w0l8ZyFoFLwb1MdIpd0gwdEklTuBFsmHFAxTk\n",
       "Cw86TuefNU1r9ZkOwTbVxMLuBZj2oocU7KS/hpHr3qNA+cmsNhPiKzVdR9WdFL7X5G8exme5P75p\n",
       "YwUJNcBW8ct1OhZvXO1+7AeQxhCBq6q1BCjVUdXmDS42AeuuHopFum7h6qYehFrMVtvwMHVi+Vxj\n",
       "8t9HRa9trB7nkIddbcNawBEPND+/DP1pkrpoGFvAHUget0oyHC7+fVSaDHT4iqLZu3TuZyHifKSp\n",
       "/FagxQeA5LU9ou9MxfhLqZp3+BA+nqoV3+BsySy3u1tEdx2EYIEeM3X95CE4H3bbs9IvBN3SHLfb\n",
       "zkiXNe9kx5IbSWxzBRuXOPt7SlHoN1R+v638x1Wiz0IhnW2lc1NWMdNV0x3s8ZDo6+8C3E+A0gf1\n",
       "sVVR3p1snO5tb84E6AbgyD91CWd51gwg/FqNsInsLk+Z0eY+RCJ7cHxAikMxl7VrzX3kztE+NSwL\n",
       "oM9Y4JKLQZYaOe2/mOHMRdDXNqZPYJ8OezU2sT1Kd/1x6UjzhoUihtPn2BkbpYA5TwtfsC43I9cB\n",
       "OBIhWeqHaC77epJEwor+RAnbSXRXZYrPaOkM5IISXD2DgYJbTd8JfB5VqHP8cSvkzB2K0fNbacyy\n",
       "iCmRJv/6cAu+0BO9MGcD1TXm5C+b7l0Zhfud+bwqiFMndwOyvfJxRbS7q8ftRB1MK+bpI52end/V\n",
       "sNagnJLP0IqiLhBzqVppEughE4qwMoE5pMgv9Y7wmD5FGIqQ8f+JACPVAn9UKXW10hal7wixtgLA\n",
       "H/M/vGYRgwiw8rG/pcvuCm3C1Bl6A60FYyFhmzFT6eXWplf/hHEe/oPXrAq3eXj+QZwLiHQta9O+\n",
       "rEn3Xn3/C6i9VNw7jLhRzhN43J/10CJosHvtuWvw7+GZLz2ezL+0eSNNpOmJF6XdPM8TRoAsNb34\n",
       "8JFzc7Qt3wjjeE1lxDU/lEHPYYiQ6Rkf9xMDUvqXWLdYcQvtvLtBpiOr+q4ygJKqHDF1+WNIA25B\n",
       "o7t0bWopnjfx3vKkh4n9LIrglJiZOyFJ/RhI1ZIX62a32xwUbBOpeG8oCyV5UvRKleEllcLOgG5B\n",
       "kT7+ASGMB9IrKwdh9xO5JZo97HfIAfN7NnoClU8o951EWEBKPqHYJNC9dPUc9EnEoQsxCutsX7O+\n",
       "HMT9hNxztwjxZdq492NysFrCpK6F9QOECS029KUQtKuPQ0sWjECE0xcPIjtdB/IkKaxqJP7fQ2Qg\n",
       "KO9A4QCEFH4//NgVNUzMEroaIBVq5fcH6VQA7nlKZmUMkm7BUfRniH5Iv+eoHbjnTB8Kt10zC9l9\n",
       "KvL7Byoj1bAoPc9dRFWncl5ZUpsmlQHS8AQx+FdY0wdydlZupSRJfdeUQ6pFP+2DKaFc/9KwByad\n",
       "uSa+HgvIAzOMLHDWCSIMc9k08chwT5ipB6llwTYDfrfHO7zJoEkaHzXfGA8ZMdSuR/X9XhfeGWv0\n",
       "kkUOqpXckw7mGqUPFicXVwfptWuefk/nFQ6ZEcuxWYT3GINJQThsTm2n4/fdMBqFSBFkVDMCaoAr\n",
       "seNzMM0yIPfxSazFzu0GG2YnCChqBWmGqozYhZpWH8e6l3WQFw/wD9zEyC1s/bobcFhmkDxpQ7Ep\n",
       "H4XyUlcNuHz6P+egUKG58LNIRORyrQRtmcpfXoEsk1lDXl9w2sy0ARglGDPZ2CzxEuDwh41fqtYa\n",
       "kyCH48chffM9kM9atbnHtYr8orE9GpIeto0oDdbUqNgebpHCX2gv0W4W/0QS6E08fGrD9gPWgDBl\n",
       "75SF28YbxmYZ5LYeFP9b3XHov8Kdrkd2+DWD/bS9dwAegrUwi4jclO0AQlzNsze9MSDRGrhRVXnK\n",
       "O3P37EV3JQ76MoCHQy9z0UE8O7TbVfPsRw2KY3goajHqFLhGVQLr1b05JvbL2fIcpEzoVqDwWzEH\n",
       "Ss36/JZJKJ6fZPemCuIMaEI+LkMW3mBWcRMRWIrp7znJ6STxuP8A3EMJ/7cUCRhyHEeUv/+Uwsze\n",
       "g5+A+71vByAoKUvOjZPlWTI+1+QGCp5uF3CymuNGB5aOhtoGbAY0QBsWpaXgDH+OUoPHdohq3v7v\n",
       "ZUr9c5skZOUElaR+L5t6jDeQLXVzGuxEF8hAW39k9SZMFwp+B175dHU7lLM8ewfaJl9taQiO9C/o\n",
       "ve7IUPkKLqoD05w6BsFLmSNs+Zd2icDhBmvXQJ0wHqWkZrC6Pgkq9SvosL+d+nCfufEXpPW0G3UM\n",
       "WegfedaSXX4V/861RHBePDTkcPdrChLdDwcE82bsPgjV5pqYsG5S+vDLQ4q09ADOES7S/YBEfYU1\n",
       "nuD7KuD0H1HeFiFqhsufThdNdFEexhaKoNgI7Pq0CPnl2NcMXrPeT+oKrGIxLCjaKM51ckS0dpj8\n",
       "I58miNi0iu92fvLPBBIj2H7DQ8tNB3SU1eRVZtaKiIN0c55kytJPCv2S8RKlk0uWDCAiAf20E/lO\n",
       "LEdRXriCIuav45FTadiPE2aaO91u55utQPFVeGWtlpMGNbj1ox8wMs/w+uYf58jrkf6UhZABX+xt\n",
       "/thqk3igBDQTXPqsOT6Yu8ahMtWX8+gjwHsRSMkBBXkPNdHOOlK21SwuIiDg/0xivsnY1p0cTX0X\n",
       "7M7ecDrhLodRdkYcQKvAUvT+zenIFdPSItKX60v0nm6n2QEu8o27rQjhti1NoUfG+0SvHYjzZc18\n",
       "WuAY6SvJK5FTXjScrXM/hJbdRfzOD8G4t5hnNzSR83Q/QYGJPwqEE3S6dUTIXD54fKyD02wvynlv\n",
       "7HN+++sk6vyORIpn/2uhSlc2Bw3M+5SEBepxR3PuCGOKACiOek1i79pbiDhLNvEw9GasXSmldFN2\n",
       "QCqyETt0sRf9db54ihWuPFJJAUQfrfr/i9mEdTb2ijzf1GV0PF5uACzamHRn+v2i5D05m5hQTBJe\n",
       "kww+yci06njzoS0XUoiUVSUqS7QnUv4l2KmqGhwAFKDmFepK27NOVomPhEIKX4XGLRkiIvf/ziQG\n",
       "zyHFFUdOENCpDpmiWCT0zgC5vqI1/udk67PbTAAALxgiW8qlvA5lNtY9QjsAAAL8QZokbEM//p4Q\n",
       "DJcWJg0OW6RCcAGqE9pQCEAZxOAqkqd/Oh1n7T0vQsFJ9+YTWSvWEBzOKCAagCkxqbo4l0UKLbqm\n",
       "20JbqP+HiMCYhgAEKh+9zuFqxaPY82EmxKtaI7HGeEGAcScjomTzcOfyM4XZL6PXzuqE+DXFWTPe\n",
       "smR8DAgBsey/5+TYySpmV2iugiFs4HXWaaCRk2hlSY5XrwCboP/fcDPvSs+8JIvMaT+kQ9KXJPVk\n",
       "xg/LaVly6g889UcwR3M1Ulh6QA6zUKD2IPST1AGB31ieiNkQxlZh6UWruZKH7Y0l/AKatVryuYmt\n",
       "Xf6cu71nZoQz8z/EgWU/TwWPBxdmRURtJAkWW59uDy2ZH4Ihz5FoAYjuTP5r89qO2tvCFSKctHQS\n",
       "aIFavKP5ymSZtdV1eTeCFHcUb+zbJs50OYs4kc1f9FzT9JtYmCSWxW6RUqBES15JyVz9npVcwShZ\n",
       "hiV7+LwGlW1EIarxCOkHWWvrYVvITg4/w3w561c+k8WTdOJl9Cr9WDfM0N4q/7yz7UYq6ZcBJ35p\n",
       "alR5+O+aSN83ATBXybnsjnxGKP2x1Z/HsZMqqrhVTc5aK1KeeqgASZ28a+q3BTGqv/Xvirt+sk5b\n",
       "/mFI9ulfbmH0qVkZBz1Pomsu5bjo8Kp7svL6/bTrFSxH5QhDgGBIoRZgZyIKODqjPEhJ4zBzP32Z\n",
       "hU2pW22qfK2YnwnBzyiMrRdr7zAn7Jeo5L+dbT/xVTlDJmoXYT7c6N8xyaFkQzVauIrET9oXx0Yc\n",
       "GYy9KMXJOQKFDIjRsYoJhuLEFb2Kc0kchpQqxApqxydsvABTYIEQmRkVAgsdyJXVY+Gg4vCyTtFa\n",
       "D4ZAnVH74wDkz0yvblR8dgd8ygPMLtiYIy9qrdXWJbYAKESInCgitlrHqcUD7hh5lg7D2HH5jPnr\n",
       "bfB3hfo6jRLWW0NeRdmA6hv+RbDZlsm3JjAL5U+7fsmyCo+wLI7mEz+6vAq8JxOhUKnOxsjfmX6R\n",
       "SVZjUSCGd7SeMidZ0FAAAABMQZ5CeIR/AqjyWzUwJi3AwzYld2luMxml3jILk2iFYTFeM1U5KgNB\n",
       "iP8gXF9vgBOsiOlOWaI4f0Lh+j/ALrD4/fiSGRc7Nxj2LNewEQAAAD0BnmF0R/8Fxs44Qb+VMG/O\n",
       "H1fGxtNFUwbdbcckDY1Ca4AA3M01qFTeayAf/epJMTdmAeTKMvXNMHeeHBQUAAAALQGeY2pH/wXH\n",
       "v1IHQFh2ooDuOhi/8x5/PsC39gALidzQDtu50yFu7EKPwPGkVQAAATdBmmhJqEFomUwIZ//+nhAM\n",
       "lxYmDQ5WXzcYAnZmhyAhAGLng/dtQSD+6RMgo4yZJmgD2dJqZwK5/vtNaoQ+Oeqqry4OlXm3VSP9\n",
       "0l4974QRvXo/eLtUXEk9pPtARYoYzKruscy7aAcCIBhQZEbGQFPt4u0iUMWeiS6rnSW0Z8wUupe+\n",
       "QBl6vaw/21q9vCpTIukjts4FlpSn50mCKS2GLHk7JCCJ2GhpMcGVObH2ER2E+uL7NFH8WuWiy0WV\n",
       "V8zzi9D1NozIjE+nOxeKnIvoecj+Ste8ONnR6cPt2qaQ5YburvOIxmo0bs9phVpDzO6OzQwMp5+Q\n",
       "8ctzFKa27gcD/TsS6g7ZLtnI6qeRV977iMb2imkmZ+aThGq6k1c99by8GWiGfH4uOoMX7pdjdR3J\n",
       "o+wQtbiy0N53YQAAADxBnoZFESwj/wKyE2eEPed/0eJFzkLWNHMR+8AkhwH9kJAC51mSqypbAcWa\n",
       "sOLgPuvEqeZGbs/UP69E3UEAAAAyAZ6ldEf/BDF+/y0eZOOH1VVJ3C1s8ycXcmBslgzkAJkDFwiP\n",
       "fPJTgwcdX6HvCC0UayEAAAAsAZ6nakf/BDPggOJxHG5oC+nkNrtvrAhGWCbABM0xRceu52W3PXrV\n",
       "KZifCFgAAADFQZqsSahBbJlMCGf//p4QC7dGpg2EfCCoRVucykm+tU6wBK+dm8umGUdgkLfyY/2h\n",
       "qbKjVRGZs0gwiToGkQeC+7ekw8I810a4yL20cAcIOkrncLVTkJNnSJ/jmjdeCN97kJQgZWFYwxw3\n",
       "W0lEG2VPGoma7oHfECcnkQTxHIocNQ3opK6UFUWD1lO1jBB2BTj48amt2F/G0AI3xphAlpzqWUOU\n",
       "N+XjcFaklx9r4Yqt0K891Vc5gKMZj/JbpaABCnwVJZb6knYAAAAyQZ7KRRUsI/8CshMbDjPfFKHv\n",
       "3ieMwHqPeOcDABKtkTTKesnwoGmS3TsfMAqsy/Zct5kAAAAdAZ7pdEf/BDF+/zHPEPSx5gn63KXI\n",
       "NTpZPWREYmwAAAAfAZ7rakf/BDPkQhmLxrjtqgAt1hz2cBVZHfwGy0BmKgAAAOdBmvBJqEFsmUwI\n",
       "X//+jLAAC7Y7bANX0xxHk0iPVYysJetOrpH33VLt1kLcF3P7G8APC/KUaSiTMFRPCDWsu13uJkbw\n",
       "yQHvnLCt4yIaH88H186GjW3lb6Va9pRAtcB7hRqZvXNMZnUpWwHzGmiE0jk+6JypU7d/kH0CAjmb\n",
       "acIUmfP/PFohj1i/8Mjn6FAbLw8hfxcoXNSCq8XWskdUyLrTeUVNZwyGmuw7fuciTPKmuHlROBCn\n",
       "eOHrIeHBNu3gQKdzO3R9w/HiUqT+HBMGEuvxnfwilO1pHQQEtmfNT06HvmikwVy1/yUAAAAuQZ8O\n",
       "RRUsI/8CshQcHql+5hDESRBiiJIIACH5EclCSGsgd5EIxoOIB/PV8G4mcQAAACYBny10R/8EMYji\n",
       "TriJr3AAnGiwnR5qA+gu31BFWL+bpfc+WHFowQAAABkBny9qR/8EM+RCGYyN2CYFQUTiVEJA7BSX\n",
       "AAAAf0GbNEmoQWyZTAhf//6MsAALcX8MAL/bOpnORokVSvQ4vLVt4SF+PeQnjrvrqm4iP5UviiY9\n",
       "1MyjwywiZYuxuSzTRzynI+1zm+4fBHDNmAmDEhHCqw6CoC1SU0YfW6Euxf/iw3a3Ts8PybtXXe68\n",
       "oT7+YsVFapDMe7DSrp7UqgwAAAAiQZ9SRRUsI/8CshQcHql+5hhPWTJvBz69i7ASxBWrwPOBOQAA\n",
       "ACEBn3F0R/8EMYjiTrzPZv5iSACcXfaYnfeGCzySt5Rfh4AAAAAjAZ9zakf/BDPkQhmNi7RD7I25\n",
       "gAP3MgyRJC3ttfHIE2z30tgAAACeQZt4SahBbJlMCF///oywABb98c+4c8AAX4h9oFSp9kQsZSqd\n",
       "jDbDYJa8RXfYc2kFajE6WvgeVpXoE9Rt1kHGon6DuHgIA3Oc6Tg8N3ZLc75MmOGegDE7GgmLdzHW\n",
       "ZhREJtAMpwmNlbw0TBbmFB2YnsQO5tQhmcvaS2zDoY9Z/qBiA8k7P7X1uq9Mi5Z3cgkHrKieM5/N\n",
       "Ob0M7aOEi0MAAAA6QZ+WRRUsI/8CshQcHql+5hhJAyFAKnqT55bHiqJCtg6MLNOwCjWgV4OgHEJP\n",
       "SE3NDy0IkAV5doZYYwAAABoBn7V0R/8EMYjiTrzPXf7aBzdPXvFa5BsCIQAAACMBn7dqR/8EM+RC\n",
       "GY2Lq5+riAC3BFxAqw5llXTeY9uG1ENWIQAAAERBm7lJqEFsmUwIX//+jLAAFtin+AEvpR4mj/LI\n",
       "NTL50TOhlDPdUEqSsEyOhBQK208k89cjIK1Fwpn2MPdwjsaalsMgYAAAAJBBm91J4QpSZTAhf/6M\n",
       "sAAtyZOixHtJdcBQyEc015jACuMbqSmxwfcHoyHJqjc5ROF8dUMjSY8AUtwl3ARzPCEJZRqfWHZU\n",
       "BI8XNVGDPV8LC2fRH/BIwyBm5sjA3gfGJkP9lMLTPBqkLSblwhJ6LZPrIj+DFoOg5rcpn3A8uVKJ\n",
       "OH7hfqlgyFxyr1GKzGtclIEAAAAoQZ/7RTRMI/8CsdTvZeBIA5WDi+3MoAAtTthFMKvnAd08fy4a\n",
       "aTxHzAAAABYBnhp0R/8EMYjiTsKX6lxKZ6e29YI5AAAAGwGeHGpH/wQz5EIZj5T0ikAH6AbhBxEJ\n",
       "twWOQQAAAEFBmh5JqEFomUwIZ//+nhAALDaRl0Q4BNCv2v2g9/rR5PFIYzHBVlU2l8g/NjYGEidV\n",
       "Evm72eWfojQuRUqmLHbr9AAAAHRBmiJJ4QpSZTAhn/6eEAAsMDZc7Cp5qABP7EQlzdTU+IRQvwsI\n",
       "irwsCHVlKKiHOPRd2Z6wa3U2u/YK2k16bGOaCVPRbeAOzuPRz8zSPcL+S3MEs8RGZLGS3j5jQ7Lz\n",
       "vk152NjERjVqZFDgOR/L6w7s9n4bMAAAACBBnkBFNEwj/wKx1O9l4EgDokGyqw3YidrD/kAUl0aT\n",
       "gQAAACABnn90R/8EMYjiTsJPnLxPqNABt83ofUxFeqKhjvlhTAAAACEBnmFqR/8EM+RCGZNw7a2s\n",
       "UABcT4ikMdAfHrRg9pIAtoEAAAA2QZpmSahBaJlMCGf//p4QAFYyrXAEdrtWWuI5zijNlspuxsTq\n",
       "lYfGJFdZOVLUs4ks5kcai0JuAAAAJ0GehEURLCP/ArIUHB6pfuZHDKsGTUplABXC+t2+JROJ6OFb\n",
       "5yO2YQAAABgBnqN0R/8EMYjiTs2tZz9ltyp/VLkOFMEAAAAeAZ6lakf/BDPkQhmTcOL5q1xAA2QR\n",
       "VHMlRn3A96KxAAAAXEGaqkmoQWyZTAhn//6eEABYmNCNfncAo1R/UwCaYeRze+J4jIXjjIemf7mG\n",
       "igtsvkcr1aRXKmq458h+Ar8dFDi2hKSqBKt4enX/3bZ7pRtC6saxzt1NjiPWxhBxAAAAI0GeyEUV\n",
       "LCP/ArIUHB6pfuZG4KG50qngBSm9aWDCKH3/tLHzAAAAFgGe53RH/wQxiOJOzbi0J/jeLprjlLgA\n",
       "AAAVAZ7pakf/BDPkQhmTbX0vA5z/6O9JAAAAqUGa7kmoQWyZTAhn//6eEABWt9/VciPRgGpXastJ\n",
       "Uhljhfu6wTDlQk+ilBarMsHw8n35X1KjcxXTFFes7vW8iR/Qi0mfJa3YsxvhJr8zpYWmq6063lR0\n",
       "5Ox7PMc2vvh8WEPJGlZ62I3cipFZ2kM1xF64wOj74E8vDuwRHciWwyKzeGE629X/8YQQsl/AWbc2\n",
       "WhPM0+iTX1V5tQSYGjWO4Ljbc3ARuKtI/YAAAAAdQZ8MRRUsI/8CshQcHql+5kVq57/BSLgjW0Pa\n",
       "FtAAAAAlAZ8rdEf/BDGI4k7M4w84AOMIR4EpUXf2REfsckBcoyYum/sZzQAAABgBny1qR/8EM+RC\n",
       "GZMQ+Z+lE5qRC2TQ8KcAAABbQZsySahBbJlMCGf//p4QACo5I5r4X9fC4BjgyWN6uJHQQf2lbUm1\n",
       "Z4S8wXRhNMlXje7TN2Ggjz7426Ikgs9epKhQQ0l4MRdrQd/P3lVwJlaF6Fqa7Vwcpz4RcQAAACVB\n",
       "n1BFFSwj/wKyFBweqX7mJjvpyZAAsC3HO4qfdkNmMjyygyScAAAAFwGfb3RH/wQxiOJOwcXeommY\n",
       "RWue15zAAAAAFgGfcWpH/wQz5EIZj0eXEKQrswQG2eEAAABlQZt2SahBbJlMCGf//p4QAFPydGAO\n",
       "XJE9BP+wk9bIZiC7LH0SPdifrLhSYMaf0f5GJl1n3NColfhM87G74ikvv84LrooAmIXuAXXVG43j\n",
       "R+/9MhuJgfG4DY2KIdEsEefdd/yOEPAAAAAbQZ+URRUsI/8CshQcHql+5kQ4I2Q0oqmnOzKSAAAA\n",
       "EgGfs3RH/wQxiOJOt3EGLcxsnQAAACYBn7VqR/8EM+RCGZMV1MAD7vEvQRj3b3WdfAxA77eK49Jw\n",
       "HzbZ4AAAAEBBm7pJqEFsmUwIZ//+nhAAU/G44A4CDvKy8vJ31lGGwbroEPG8IwYngETcsuak+vxF\n",
       "kiU+oTFTHLxeRbQfpwTdAAAAF0Gf2EUVLCP/ArIUHB6pfuYJwb6JDZxjAAAAFAGf93RH/wQxiOJO\n",
       "zJ+J17vsm4UwAAAAEgGf+WpH/wQz5EIZi6j186omzwAAAH5Bm/5JqEFsmUwIZ//+nhAAU/G44A5S\n",
       "PgNyX6gHuMnyDBmykolZKsiXNq/8mqOiwo064g5uA0EQki0bz6nUV0LYptA2W4n8ANbydSvKA4Ta\n",
       "mtRhmOMnGPbvbxcrh17KGwRQ10xI85//ChTYncfZLHMh16cnWyE6msZAGbgQRcAAAAAoQZ4cRRUs\n",
       "I/8CshQcHql+5kQIT4zYATKaWOwLWVYm2XuHq/zdX2e6xQAAAB4Bnjt0R/8EMYjiTsyNaUgAFmy4\n",
       "7AkH+LGano+Y0KcAAAAZAZ49akf/BDPkQhmS0wrYZdW3EHPv9GcTQAAAAEdBmiJJqEFsmUwIZ//+\n",
       "nhAAUhmIcSAH3iS2EZ2RgWUZVjDb+Tvnmgr659pIdQxo9qrnDdb+Yt+DLo3ZSJJ2Q7VH8G9+HSmh\n",
       "xwAAACtBnkBFFSwj/wKyFBweqX7mQxdVQAqYitS1P0ybtL7+IL1kvBok/pOYO9LnAAAAJgGef3RH\n",
       "/wQxiOJOzBunAAmIH3jT1845Esr8zHjeup2wfFvMJapgAAAAGwGeYWpH/wQz5EIZkuluBMqxDHK5\n",
       "6SAFgUZVMQAAADpBmmZJqEFsmUwIZ//+nhAAUZ309iQAARa3NoBOwrv9/fe0c629yLHJXd4oHNJA\n",
       "5dzNiN31p3kBILKAAAAAHkGehEUVLCP/ArIUHB6pfuZCkepSDzW/dP4rM0L3MQAAABYBnqN0R/8E\n",
       "MYjiTsv9PvkG7juVthNBAAAAFAGepWpH/wQz5EIZksDxZWi/X3s9AAAAaUGaqkmoQWyZTAhn//6e\n",
       "EABRsnRgCrcqVbAK95kqPY7fbJWq/AOKEYx7OxY4ZucLBzMdMYeT9JHuomvIqIBGfgT6uuZK+fB8\n",
       "woInWypc5CVHyr1f6exWqdAd7mtz3zWvTz9/sX5zkS0f4QAAACZBnshFFSwj/wKyFBweqX7mQrR0\n",
       "gANn93Hjk1w2OnnDwZzAOWEXcAAAABgBnud0R/8EMYjiTsvt51ycEK7MQWhPIJoAAAAkAZ7pakf/\n",
       "BDPkQhmS6W4FAdx5AA4Ljq8f9Fh7bQsKE/kUFCgnAAAAY0Ga7kmoQWyZTAhn//6eEAAp+b3gAuYu\n",
       "pLppFJ7r3PGtqWvq7c+4Rhc3zsCUYUbzXRHVk9/Qeq9yZem+syPUwy+jcBjZLMQI5qZk4C1qSpHg\n",
       "UDd6BzuQgb7QDHjcAgXfmeTCkgAAAClBnwxFFSwj/wKyFBweqX7mQM8hYSr5B1TJIAJaetw92Qt7\n",
       "M6fSKYPbKAAAAB8Bnyt0R/8EMYjiTsttwrcS7iACMAyDNVc1ickkEm9BAAAAIQGfLWpH/wQz5EIZ\n",
       "ksD37KMrDiABdABizh/9oeEXqJAByQAAAEJBmzJJqEFsmUwIX//+jLAAKXhQ9NgCHxUTfnl7mOTV\n",
       "GJUS/p0P8bNYlrHBQoe1W21kboioPPC1GJoK69LWBqug7oEAAAAnQZ9QRRUsI/8CshQcHql+5kGN\n",
       "OHOITUAAtUrfiZ4G3sBtKzDTMDugAAAAEwGfb3RH/wQxiOJOy22kZtZI3RAAAAAWAZ9xakf/BDPk\n",
       "QhmSwPgMCKbUtfDjgQAAAEBBm3ZJqEFsmUwIX//+jLAAKTr/nIAgvfLZVtaFNeaoaGDJ/6xo1IXx\n",
       "GWAUHY99qUbFepEGScck/eY7qqjXhhnwAAAAKUGflEUVLCP/ArIUHB6pfuZBjTkxOWwASQySe21L\n",
       "WRq5sFmdyisrIGpAAAAAHgGfs3RH/wQxiOJOy23Bf9zAAmbNAG3pNfVFKN2zwQAAAB4Bn7VqR/8E\n",
       "M+RCGZLA+C/3MACZKys5k1l/hF5jDpgAAAAxQZu6SahBbJlMCF///oywAFJy3RADcpSXzXuvzjXj\n",
       "fVNpHPNPzfVvY1p9wXfmbJ4O6QAAABhBn9hFFSwj/wKyFBweqX7mQY0YPbZvsyEAAAASAZ/3dEf/\n",
       "BDGI4k7LbalmYK0QAAAAFAGf+WpH/wQz5EIZksD4FIgZZq55AAAAP0Gb/kmoQWyZTAhX//44QAFI\n",
       "I98PyGgBLHuzpEVwZGfEfurK3q7Ltu8WbQFvm8XQlQE0VzFp8myCE0AhtNB3QAAAABlBnhxFFSwj\n",
       "/wKyFBweqX7mRDme9MSTkFJBAAAAEgGeO3RH/wQxiOJOy22pZmCtEQAAABYBnj1qR/8EM+RCGZL+\n",
       "33ugdn1r0NmAAAAAK0GaIkmoQWyZTAhH//3hAAT0CJFB6NRgAlqKtei+fsAmFvjdwkDBX2rQgP8A\n",
       "AAAaQZ5ARRUsI/8CshQcHql+5kNx94xhkh0KgVsAAAASAZ5/dEf/BDGI4k7LbalmYK0QAAAAFQGe\n",
       "YWpH/wQz5EIZkv8SX1nrNmxI+QAAABxBmmNJqEFsmUwI//yEABNOOiACVw50rQh+fIEPAAAH3m1v\n",
       "b3YAAABsbXZoZAAAAAAAAAAAAAAAAAAAA+gAAAfQAAEAAAEAAAAAAAAAAAAAAAABAAAAAAAAAAAA\n",
       "AAAAAAAAAQAAAAAAAAAAAAAAAAAAQAAAAAAAAAAAAAAAAAAAAAAAAAAAAAAAAAAAAAAAAAIAAAcI\n",
       "dHJhawAAAFx0a2hkAAAAAwAAAAAAAAAAAAAAAQAAAAAAAAfQAAAAAAAAAAAAAAAAAAAAAAABAAAA\n",
       "AAAAAAAAAAAAAAAAAQAAAAAAAAAAAAAAAAAAQAAAAAGwAAABIAAAAAAAJGVkdHMAAAAcZWxzdAAA\n",
       "AAAAAAABAAAH0AAAAgAAAQAAAAAGgG1kaWEAAAAgbWRoZAAAAAAAAAAAAAAAAAAAMgAAAGQAVcQA\n",
       "AAAAAC1oZGxyAAAAAAAAAAB2aWRlAAAAAAAAAAAAAAAAVmlkZW9IYW5kbGVyAAAABittaW5mAAAA\n",
       "FHZtaGQAAAABAAAAAAAAAAAAAAAkZGluZgAAABxkcmVmAAAAAAAAAAEAAAAMdXJsIAAAAAEAAAXr\n",
       "c3RibAAAALNzdHNkAAAAAAAAAAEAAACjYXZjMQAAAAAAAAABAAAAAAAAAAAAAAAAAAAAAAGwASAA\n",
       "SAAAAEgAAAAAAAAAAQAAAAAAAAAAAAAAAAAAAAAAAAAAAAAAAAAAAAAAAAAAABj//wAAADFhdmND\n",
       "AWQAHv/hABhnZAAerNlBsJaEAAADAAQAAAMBkDxYtlgBAAZo6+PLIsAAAAAcdXVpZGtoQPJfJE/F\n",
       "ujmlG88DI/MAAAAAAAAAGHN0dHMAAAAAAAAAAQAAAGQAAAEAAAAAFHN0c3MAAAAAAAAAAQAAAAEA\n",
       "AAMwY3R0cwAAAAAAAABkAAAAAQAAAgAAAAABAAAFAAAAAAEAAAIAAAAAAQAAAAAAAAABAAABAAAA\n",
       "AAEAAAUAAAAAAQAAAgAAAAABAAAAAAAAAAEAAAEAAAAAAQAABQAAAAABAAACAAAAAAEAAAAAAAAA\n",
       "AQAAAQAAAAABAAAFAAAAAAEAAAIAAAAAAQAAAAAAAAABAAABAAAAAAEAAAUAAAAAAQAAAgAAAAAB\n",
       "AAAAAAAAAAEAAAEAAAAAAQAABQAAAAABAAACAAAAAAEAAAAAAAAAAQAAAQAAAAABAAACAAAAAAEA\n",
       "AAUAAAAAAQAAAgAAAAABAAAAAAAAAAEAAAEAAAAAAQAAAgAAAAABAAAFAAAAAAEAAAIAAAAAAQAA\n",
       "AAAAAAABAAABAAAAAAEAAAUAAAAAAQAAAgAAAAABAAAAAAAAAAEAAAEAAAAAAQAABQAAAAABAAAC\n",
       "AAAAAAEAAAAAAAAAAQAAAQAAAAABAAAFAAAAAAEAAAIAAAAAAQAAAAAAAAABAAABAAAAAAEAAAUA\n",
       "AAAAAQAAAgAAAAABAAAAAAAAAAEAAAEAAAAAAQAABQAAAAABAAACAAAAAAEAAAAAAAAAAQAAAQAA\n",
       "AAABAAAFAAAAAAEAAAIAAAAAAQAAAAAAAAABAAABAAAAAAEAAAUAAAAAAQAAAgAAAAABAAAAAAAA\n",
       "AAEAAAEAAAAAAQAABQAAAAABAAACAAAAAAEAAAAAAAAAAQAAAQAAAAABAAAFAAAAAAEAAAIAAAAA\n",
       "AQAAAAAAAAABAAABAAAAAAEAAAUAAAAAAQAAAgAAAAABAAAAAAAAAAEAAAEAAAAAAQAABQAAAAAB\n",
       "AAACAAAAAAEAAAAAAAAAAQAAAQAAAAABAAAFAAAAAAEAAAIAAAAAAQAAAAAAAAABAAABAAAAAAEA\n",
       "AAUAAAAAAQAAAgAAAAABAAAAAAAAAAEAAAEAAAAAAQAABQAAAAABAAACAAAAAAEAAAAAAAAAAQAA\n",
       "AQAAAAABAAAFAAAAAAEAAAIAAAAAAQAAAAAAAAABAAABAAAAAAEAAAUAAAAAAQAAAgAAAAABAAAA\n",
       "AAAAAAEAAAEAAAAAAQAAAgAAAAAcc3RzYwAAAAAAAAABAAAAAQAAAGQAAAABAAABpHN0c3oAAAAA\n",
       "AAAAAAAAAGQAADU3AAADAAAAAFAAAABBAAAAMQAAATsAAABAAAAANgAAADAAAADJAAAANgAAACEA\n",
       "AAAjAAAA6wAAADIAAAAqAAAAHQAAAIMAAAAmAAAAJQAAACcAAACiAAAAPgAAAB4AAAAnAAAASAAA\n",
       "AJQAAAAsAAAAGgAAAB8AAABFAAAAeAAAACQAAAAkAAAAJQAAADoAAAArAAAAHAAAACIAAABgAAAA\n",
       "JwAAABoAAAAZAAAArQAAACEAAAApAAAAHAAAAF8AAAApAAAAGwAAABoAAABpAAAAHwAAABYAAAAq\n",
       "AAAARAAAABsAAAAYAAAAFgAAAIIAAAAsAAAAIgAAAB0AAABLAAAALwAAACoAAAAfAAAAPgAAACIA\n",
       "AAAaAAAAGAAAAG0AAAAqAAAAHAAAACgAAABnAAAALQAAACMAAAAlAAAARgAAACsAAAAXAAAAGgAA\n",
       "AEQAAAAtAAAAIgAAACIAAAA1AAAAHAAAABYAAAAYAAAAQwAAAB0AAAAWAAAAGgAAAC8AAAAeAAAA\n",
       "FgAAABkAAAAgAAAAFHN0Y28AAAAAAAAAAQAAACwAAABidWR0YQAAAFptZXRhAAAAAAAAACFoZGxy\n",
       "AAAAAAAAAABtZGlyYXBwbAAAAAAAAAAAAAAAAC1pbHN0AAAAJal0b28AAAAdZGF0YQAAAAEAAAAA\n",
       "TGF2ZjU2LjQwLjEwMQ==\n",
       "\">\n",
       "  Your browser does not support the video tag.\n",
       "</video>"
      ]
     },
     "metadata": {},
     "output_type": "display_data"
    }
   ],
   "source": [
    "try:\n",
    "    display_html(HTML(anim.to_html5_video()))\n",
    "except (RuntimeError, KeyError):\n",
    "    # In case the build-in renderers are unaviable, fall back to\n",
    "    # a custom one, that doesn't require external libraries\n",
    "    anim.save(None, writer=matplotlib_utils.SimpleMovieWriter(0.001))"
   ]
  },
  {
   "cell_type": "code",
   "execution_count": null,
   "metadata": {
    "collapsed": true
   },
   "outputs": [],
   "source": []
  }
 ],
 "metadata": {
  "kernelspec": {
   "display_name": "Python 3",
   "language": "python",
   "name": "python3"
  },
  "language_info": {
   "codemirror_mode": {
    "name": "ipython",
    "version": 3
   },
   "file_extension": ".py",
   "mimetype": "text/x-python",
   "name": "python",
   "nbconvert_exporter": "python",
   "pygments_lexer": "ipython3",
   "version": "3.7.3"
  }
 },
 "nbformat": 4,
 "nbformat_minor": 1
}
